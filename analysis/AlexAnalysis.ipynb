{
 "cells": [
  {
   "cell_type": "code",
   "execution_count": 1,
   "id": "bb6d2006-b918-4823-aca0-08d77ed7f3b4",
   "metadata": {},
   "outputs": [],
   "source": [
    "import numpy as np\n",
    "import pandas as pd\n",
    "\n",
    "NF = pd.read_csv(\"../data/raw/netflix_titles.csv\")\n",
    "DP = pd.read_csv(\"../data/raw/disney_plus_titles.csv\")\n",
    "AP = pd.read_csv(\"../data/raw/amazon_prime_titles.csv\")\n",
    "HU = pd.read_csv(\"../data/raw/hulu_titles.csv\")\n",
    "\n"
   ]
  },
  {
   "cell_type": "code",
   "execution_count": null,
   "id": "e9205e04-85df-4dc7-96ef-1f55cd2f1670",
   "metadata": {},
   "outputs": [],
   "source": []
  },
  {
   "cell_type": "code",
   "execution_count": null,
   "id": "618dfe85-3a7e-4730-9e9e-b60d6af608fa",
   "metadata": {},
   "outputs": [],
   "source": []
  }
 ],
 "metadata": {
  "kernelspec": {
   "display_name": "Python 3",
   "language": "python",
   "name": "python3"
  },
  "language_info": {
   "codemirror_mode": {
    "name": "ipython",
    "version": 3
   },
   "file_extension": ".py",
   "mimetype": "text/x-python",
   "name": "python",
   "nbconvert_exporter": "python",
   "pygments_lexer": "ipython3",
   "version": "3.11.0"
  },
  "vscode": {
   "interpreter": {
    "hash": "aa183b74cb3fbe173dc70df67a30cf95e10500e6ff32b17254874adeb5e04964"
   }
  }
 },
 "nbformat": 4,
 "nbformat_minor": 5
}
