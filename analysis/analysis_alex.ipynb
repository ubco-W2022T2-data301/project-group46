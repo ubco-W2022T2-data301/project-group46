{
 "cells": [
  {
   "cell_type": "markdown",
   "metadata": {},
   "source": [
    "# Alex Henczel"
   ]
  },
  {
   "attachments": {},
   "cell_type": "markdown",
   "metadata": {},
   "source": [
    "#How has the standard for movie length, genre distribution and age rating changed over the last 40 years. \n",
    "Is there any correlation between newer movies being more graphic IE having a large portion of movies each year being mature vs pg13 \n",
    "How as movie length changed over the last 40 years\n",
    "Has the distribution of movie genres changed over the last 40 years\n",
    "\n",
    "I plan on sorting the data to eliminate the data that doesnt it the criteria, such as being incomplete ie data points that dont contain a rating and or year released .  i plan to add graphs and charts to represent the distribution such as movie genre variety or age rating percentage. "
   ]
  },
  {
   "cell_type": "code",
   "execution_count": null,
   "metadata": {},
   "outputs": [],
   "source": [
    "import numpy as np\n",
    "import pandas as pd\n",
    "\n",
    "NF = pd.read_csv(\"../data/raw/netflix_titles.csv\")\n",
    "DP = pd.read_csv(\"../data/raw/disney_plus_titles.csv\")\n",
    "AP = pd.read_csv(\"../data/raw/amazon_prime_titles.csv\")\n",
    "HU = pd.read_csv(\"../data/raw/hulu_titles.csv\")"
   ]
  }
 ],
 "metadata": {
  "kernelspec": {
   "display_name": "base",
   "language": "python",
   "name": "python3"
  },
  "language_info": {
   "name": "python",
   "version": "3.10.8"
  },
  "vscode": {
   "interpreter": {
    "hash": "e9f4c2e3c7edcc74941d763c22ae9bb8d5716b7961b59c0906229ce5f7f5dcfc"
   }
  }
 },
 "nbformat": 4,
 "nbformat_minor": 4
}
