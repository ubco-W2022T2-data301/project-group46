{
 "cells": [
  {
   "cell_type": "code",
   "execution_count": null,
   "id": "935dbe58-74e5-4fdb-affc-3217adcaf540",
   "metadata": {},
   "outputs": [],
   "source": [
    "import pandas as pd\n",
    "import numpy as np\n",
    "import seaborn as sns\n",
    "import matplotlib.pyplot as plt\n",
    "import warnings\n",
    "warnings.filterwarnings(\"ignore\")\n",
    "\n",
    "NF = pd.read_csv(\"../data/raw/netflix_titles.csv\")\n",
    "DP = pd.read_csv(\"../data/raw/disney_plus_titles.csv\")\n",
    "AP = pd.read_csv(\"../data/raw/amazon_prime_titles.csv\")\n",
    "HU = pd.read_csv(\"../data/raw/hulu_titles.csv\")"
   ]
  },
  {
   "cell_type": "code",
   "execution_count": null,
   "id": "597c8b1e-0645-4bd0-b4a7-faed268ad5ab",
   "metadata": {},
   "outputs": [],
   "source": [
    "def load_and_process(url_or_path_to_csv_file):\n",
    "    yearRating_NF=(\n",
    "    pd.read_csv(url_or_path_to_csv_file)\n",
    "    .loc[lambda x: x['rating']!='66 min']\n",
    "    .loc[lambda x: x['rating']!='74 min']\n",
    "    .loc[lambda x: x['rating']!='84 min']\n",
    "    .loc[lambda x: x['rating']!='UR']\n",
    "    .loc[lambda x: x['rating']!='NR']\n",
    "    .loc[lambda x: x['rating']!='NC-17']\n",
    "    .loc[lambda x: x['rating']!='TV-Y7-FV'] \n",
    "    .drop(['show_id','type','title','director','cast','country','date_added','duration','listed_in','description'],axis=1)\n",
    "    .dropna()) \n",
    "    return yearRating_NF"
   ]
  },
  {
   "cell_type": "code",
   "execution_count": null,
   "id": "99038318-505b-4701-ad62-3e1086c10d6d",
   "metadata": {},
   "outputs": [],
   "source": [
    "NF2=load_and_process(\"../data/raw/netflix_titles.csv\")\n",
    "yearRating_NF=load_and_process(\"../data/raw/netflix_titles.csv\").groupby(['rating']).count()\n"
   ]
  },
  {
   "cell_type": "code",
   "execution_count": null,
   "id": "ba02123c-4b04-4dc7-9c52-9d2e7f9eac99",
   "metadata": {},
   "outputs": [],
   "source": [
    "yearRating_NF.to_csv(\"../data/processed/proccessed_alex/netflix_yearRating.csv\")"
   ]
  },
  {
   "cell_type": "code",
   "execution_count": null,
   "id": "16948c32-8c8b-4d14-9b3d-dee43671889f",
   "metadata": {},
   "outputs": [],
   "source": [
    "yearRating_DP= DP.drop(['show_id','type','title','director','cast','country','date_added','duration','listed_in','description'],axis=1)\n",
    "yearRating_DP.dropna()\n",
    "\n",
    "for i in range(yearRating_DP['rating'].count()):\n",
    " if yearRating_DP.rating[i] == 'TV-Y7-FV':\n",
    "       yearRating_DP.rating[i] = 'TV-Y7'\n",
    "\n",
    "DP2=yearRating_DP\n",
    "yearRating_DP=yearRating_DP.groupby(['rating']).count()"
   ]
  },
  {
   "cell_type": "code",
   "execution_count": null,
   "id": "8462c11c-7946-4985-856a-04407eaa3c38",
   "metadata": {},
   "outputs": [],
   "source": [
    "yearRating_DP.to_csv(\"../data/processed/proccessed_alex/disney_yearRating.csv\")"
   ]
  },
  {
   "cell_type": "code",
   "execution_count": null,
   "id": "57311895-db01-4f88-b3d9-bc096abb9153",
   "metadata": {},
   "outputs": [
    {
     "data": {
      "text/html": [
       "<div>\n",
       "<style scoped>\n",
       "    .dataframe tbody tr th:only-of-type {\n",
       "        vertical-align: middle;\n",
       "    }\n",
       "\n",
       "    .dataframe tbody tr th {\n",
       "        vertical-align: top;\n",
       "    }\n",
       "\n",
       "    .dataframe thead th {\n",
       "        text-align: right;\n",
       "    }\n",
       "</style>\n",
       "<table border=\"1\" class=\"dataframe\">\n",
       "  <thead>\n",
       "    <tr style=\"text-align: right;\">\n",
       "      <th></th>\n",
       "      <th>release_year</th>\n",
       "    </tr>\n",
       "    <tr>\n",
       "      <th>rating</th>\n",
       "      <th></th>\n",
       "    </tr>\n",
       "  </thead>\n",
       "  <tbody>\n",
       "    <tr>\n",
       "      <th>G</th>\n",
       "      <td>1334</td>\n",
       "    </tr>\n",
       "    <tr>\n",
       "      <th>PG</th>\n",
       "      <td>253</td>\n",
       "    </tr>\n",
       "    <tr>\n",
       "      <th>PG-13</th>\n",
       "      <td>2443</td>\n",
       "    </tr>\n",
       "    <tr>\n",
       "      <th>R</th>\n",
       "      <td>3699</td>\n",
       "    </tr>\n",
       "    <tr>\n",
       "      <th>TV-14</th>\n",
       "      <td>208</td>\n",
       "    </tr>\n",
       "    <tr>\n",
       "      <th>TV-G</th>\n",
       "      <td>81</td>\n",
       "    </tr>\n",
       "    <tr>\n",
       "      <th>TV-MA</th>\n",
       "      <td>77</td>\n",
       "    </tr>\n",
       "    <tr>\n",
       "      <th>TV-PG</th>\n",
       "      <td>169</td>\n",
       "    </tr>\n",
       "    <tr>\n",
       "      <th>TV-Y</th>\n",
       "      <td>74</td>\n",
       "    </tr>\n",
       "    <tr>\n",
       "      <th>TV-Y7</th>\n",
       "      <td>413</td>\n",
       "    </tr>\n",
       "  </tbody>\n",
       "</table>\n",
       "</div>"
      ],
      "text/plain": [
       "        release_year\n",
       "rating              \n",
       "G               1334\n",
       "PG               253\n",
       "PG-13           2443\n",
       "R               3699\n",
       "TV-14            208\n",
       "TV-G              81\n",
       "TV-MA             77\n",
       "TV-PG            169\n",
       "TV-Y              74\n",
       "TV-Y7            413"
      ]
     },
     "execution_count": null,
     "metadata": {},
     "output_type": "execute_result"
    }
   ],
   "source": [
    "yearRating_AP= AP.drop(['show_id','type','title','director','cast','country','date_added','duration','listed_in','description'],axis=1)\n",
    "yearRating_AP.dropna()\n",
    "\n",
    "\n",
    "for i in range(yearRating_AP['rating'].count()):\n",
    "    if yearRating_AP.rating[i] == 'ALL_AGES':\n",
    "       yearRating_AP.rating[i] = 'ALL'\n",
    "    elif yearRating_AP.rating[i] == '16':\n",
    "       yearRating_AP.rating[i] = '16+'\n",
    "    elif yearRating_AP.rating[i] == 'AGES_16_':\n",
    "       yearRating_AP.rating[i] = '16+'\n",
    "    elif yearRating_AP.rating[i] == 'AGES_18_':\n",
    "       yearRating_AP.rating[i] = '18+' \n",
    "    elif yearRating_AP.rating[i] == 'NC-17':\n",
    "       yearRating_AP.rating[i] = 'R'\n",
    "    \n",
    "for i in range(yearRating_AP['rating'].count()):   \n",
    "    if yearRating_AP.rating[i] == '7+':\n",
    "       yearRating_AP.rating[i] = 'TV-Y7'\n",
    "    elif yearRating_AP.rating[i] == '18+':\n",
    "       yearRating_AP.rating[i] = 'R'\n",
    "    elif yearRating_AP.rating[i] == '13+':\n",
    "       yearRating_AP.rating[i] = 'PG-13'\n",
    "    elif yearRating_AP.rating[i] == '16+':\n",
    "       yearRating_AP.rating[i] = 'R'\n",
    "    elif yearRating_AP.rating[i] == 'ALL':\n",
    "       yearRating_AP.rating[i] = 'G'\n",
    "\n",
    "yearRating_AP=yearRating_AP[yearRating_AP.rating !='NOT_RATE']\n",
    "yearRating_AP=yearRating_AP[yearRating_AP.rating !='UNRATED']\n",
    "yearRating_AP=yearRating_AP[yearRating_AP.rating !='TV-NR']\n",
    "yearRating_AP=yearRating_AP[yearRating_AP.rating !='NR']\n",
    "yearRating_AP=yearRating_AP[yearRating_AP.rating !='18+']\n",
    "yearRating_AP=yearRating_AP[yearRating_AP.rating !='16+']\n",
    "yearRating_AP=yearRating_AP[yearRating_AP.rating !='13+']\n",
    "yearRating_AP=yearRating_AP[yearRating_AP.rating !='7+']\n",
    "yearRating_AP=yearRating_AP[yearRating_AP.rating !='ALL']\n",
    "AP2=yearRating_AP\n",
    "yearRating_AP=yearRating_AP.groupby(yearRating_AP['rating']).count()\n",
    "yearRating_AP"
   ]
  },
  {
   "cell_type": "code",
   "execution_count": null,
   "id": "3071e9c6-ca6b-4b38-85a6-5e5d01544b71",
   "metadata": {},
   "outputs": [],
   "source": [
    "yearRating_AP.to_csv(\"../data/processed/proccessed_alex/prime_yearRating.csv\")"
   ]
  },
  {
   "cell_type": "code",
   "execution_count": null,
   "id": "dc662085-5f74-4b46-b107-4c181dba3519",
   "metadata": {},
   "outputs": [],
   "source": [
    "yearRating_HU= HU.drop(['show_id','type','title','director','cast','country','date_added','listed_in','description'],axis=1)\n",
    "yearRating_HU.dropna(how='any', inplace=True)\n",
    "\n",
    "yearRating_HU=yearRating_HU[yearRating_HU.rating !='NR']\n",
    "yearRating_HU=yearRating_HU[yearRating_HU.rating !='NOT RATED']\n",
    "\n",
    "yearRating_HU= yearRating_HU.drop(['duration'],axis=1)\n",
    "HU2=yearRating_HU\n",
    "yearRating_HU=yearRating_HU.groupby(['rating']).count()"
   ]
  },
  {
   "cell_type": "code",
   "execution_count": null,
   "id": "ace67e52-53c4-48af-baa1-4ee321cf662d",
   "metadata": {},
   "outputs": [],
   "source": [
    "yearRating_HU.to_csv(\"../data/processed/proccessed_alex/Hulu_yearRating.csv\")"
   ]
  },
  {
   "cell_type": "code",
   "execution_count": null,
   "id": "b202861e-e6b0-496b-a0a5-ef15ea16e76a",
   "metadata": {},
   "outputs": [],
   "source": [
    "merge=(\n",
    "    pd.concat([NF2,DP2,AP2,HU2])\n",
    "    .rename(columns={\"rating\": \"Rating\"})\n",
    "    .rename(columns={\"release_year\": \"Release Year\"})\n",
    "    .reset_index(drop=True)\n",
    "    .groupby(['Rating']).count()\n",
    ")\n"
   ]
  },
  {
   "cell_type": "code",
   "execution_count": null,
   "id": "f701678f-60d5-4e23-a314-aa9a605c8b0f",
   "metadata": {},
   "outputs": [],
   "source": [
    "merge.to_csv(\"../data/processed/proccessed_alex/combined_yearRating.csv\")"
   ]
  },
  {
   "cell_type": "code",
   "execution_count": null,
   "id": "7515cafa-5485-48ea-b03a-14ee6a2d1e05",
   "metadata": {},
   "outputs": [],
   "source": [
    "year=(\n",
    "    pd.concat([NF2,DP2,AP2,HU2])\n",
    "    .groupby(['release_year']).count()\n",
    ")"
   ]
  },
  {
   "cell_type": "code",
   "execution_count": null,
   "id": "92634eff-530d-4f0d-87c5-cfd1513dcf5a",
   "metadata": {},
   "outputs": [],
   "source": [
    "year.to_csv(\"../data/processed/proccessed_alex/dist_by_year.csv\")"
   ]
  },
  {
   "cell_type": "code",
   "execution_count": null,
   "id": "b9fd8a9a-f60a-47ae-8e81-bcb14e7d83e2",
   "metadata": {},
   "outputs": [
    {
     "data": {
      "text/html": [
       "<div>\n",
       "<style scoped>\n",
       "    .dataframe tbody tr th:only-of-type {\n",
       "        vertical-align: middle;\n",
       "    }\n",
       "\n",
       "    .dataframe tbody tr th {\n",
       "        vertical-align: top;\n",
       "    }\n",
       "\n",
       "    .dataframe thead th {\n",
       "        text-align: right;\n",
       "    }\n",
       "</style>\n",
       "<table border=\"1\" class=\"dataframe\">\n",
       "  <thead>\n",
       "    <tr style=\"text-align: right;\">\n",
       "      <th></th>\n",
       "      <th>Before 2000</th>\n",
       "      <th>After 2000</th>\n",
       "    </tr>\n",
       "  </thead>\n",
       "  <tbody>\n",
       "    <tr>\n",
       "      <th>Netflix</th>\n",
       "      <td>5.963876</td>\n",
       "      <td>94.036124</td>\n",
       "    </tr>\n",
       "    <tr>\n",
       "      <th>Disney Plus</th>\n",
       "      <td>26.261230</td>\n",
       "      <td>73.738770</td>\n",
       "    </tr>\n",
       "    <tr>\n",
       "      <th>Amazon Prime</th>\n",
       "      <td>17.511521</td>\n",
       "      <td>82.488479</td>\n",
       "    </tr>\n",
       "    <tr>\n",
       "      <th>Hulu</th>\n",
       "      <td>7.598903</td>\n",
       "      <td>92.401097</td>\n",
       "    </tr>\n",
       "  </tbody>\n",
       "</table>\n",
       "</div>"
      ],
      "text/plain": [
       "              Before 2000  After 2000\n",
       "Netflix          5.963876   94.036124\n",
       "Disney Plus     26.261230   73.738770\n",
       "Amazon Prime    17.511521   82.488479\n",
       "Hulu             7.598903   92.401097"
      ]
     },
     "execution_count": null,
     "metadata": {},
     "output_type": "execute_result"
    }
   ],
   "source": [
    "# % of movies from before or after century\n",
    "\n",
    "NF_perc=NF.drop(['show_id','type','title','director','cast','country','date_added','duration','listed_in','description'],axis=1)\n",
    "beforeNF=0\n",
    "afterNF=0\n",
    "for i in range(NF_perc['rating'].count()):\n",
    "    if NF_perc.release_year[i]<2000:\n",
    "        beforeNF=beforeNF+1\n",
    "    else: \n",
    "        afterNF = afterNF+1\n",
    "\n",
    "NF_perc=NF_perc.groupby(['release_year']).count()\n",
    "pctbNF=(beforeNF*100)/(beforeNF+afterNF)\n",
    "pctaNF=(afterNF*100)/(beforeNF+afterNF)\n",
    "DP_perc=DP.drop(['show_id','type','title','director','cast','country','date_added','duration','listed_in','description'],axis=1)\n",
    "beforeDP=0\n",
    "afterDP=0\n",
    "for i in range(DP_perc['rating'].count()):\n",
    "    if DP_perc.release_year[i]<2000:\n",
    "        beforeDP=beforeDP+1\n",
    "    else: \n",
    "        afterDP = afterDP+1\n",
    "\n",
    "DP_perc=DP_perc.groupby(['release_year']).count()\n",
    "pctbDP=(beforeDP*100)/(beforeDP+afterDP)\n",
    "pctaDP=(afterDP*100)/(beforeDP+afterDP)\n",
    "\n",
    "AP_perc=AP.drop(['show_id','type','title','director','cast','country','date_added','duration','listed_in','description'],axis=1)\n",
    "beforeAP=0\n",
    "afterAP=0\n",
    "for i in range(AP_perc['rating'].count()):\n",
    "    if AP_perc.release_year[i]<2000:\n",
    "        beforeAP=beforeAP+1\n",
    "    else: \n",
    "        afterAP = afterAP+1\n",
    "\n",
    "AP_perc=AP_perc.groupby(['release_year']).count()\n",
    "pctbAP=(beforeAP*100)/(beforeAP+afterAP)\n",
    "pctaAP=(afterAP*100)/(beforeAP+afterAP)\n",
    "\n",
    "HU_perc=HU.drop(['show_id','type','title','director','cast','country','date_added','duration','listed_in','description'],axis=1)\n",
    "beforeHU=0\n",
    "afterHU=0\n",
    "for i in range(HU_perc['rating'].count()):\n",
    "    if HU_perc.release_year[i]<2000:\n",
    "        beforeHU=beforeHU+1\n",
    "    else: \n",
    "        afterHU = afterHU+1\n",
    "\n",
    "HU_perc=HU_perc.groupby(['release_year']).count()\n",
    "pctbHU=(beforeHU*100)/(beforeHU+afterHU)\n",
    "pctaHU=(afterHU*100)/(beforeHU+afterHU)\n",
    "\n",
    "\n",
    "pct=[[pctbNF,pctbDP,pctbAP,pctbHU],[pctaNF,pctaDP,pctaAP,pctaHU]]\n",
    "\n",
    "pct1 = pd.DataFrame(pct, columns=['Netflix','Disney Plus','Amazon Prime', 'Hulu'],index=['Before 2000','After 2000'])\n",
    "pct2=pct1.transpose()\n",
    "pct2"
   ]
  },
  {
   "cell_type": "code",
   "execution_count": null,
   "id": "7052df00-aaed-4052-bda0-89c9e5398648",
   "metadata": {},
   "outputs": [],
   "source": [
    "pct2.to_csv(\"../data/processed/proccessed_alex/before_after.csv\")"
   ]
  },
  {
   "cell_type": "code",
   "execution_count": null,
   "id": "98a8bcde-2de9-4443-88cc-75d49a725dba",
   "metadata": {},
   "outputs": [],
   "source": [
    "df1 = [NF2,DP2,AP2,HU2]\n",
    "\n",
    "facet=pd.concat(df1)"
   ]
  },
  {
   "cell_type": "code",
   "execution_count": null,
   "id": "6bee68a7-03a8-4ef2-bbc7-83185ed33277",
   "metadata": {},
   "outputs": [],
   "source": [
    "facet.to_csv(\"../data/processed/proccessed_alex/num_of_rating_by_year.csv\")"
   ]
  },
  {
   "cell_type": "code",
   "execution_count": null,
   "id": "e62d592a-c4b3-448c-8183-8bed1d6061e5",
   "metadata": {},
   "outputs": [],
   "source": []
  }
 ],
 "metadata": {
  "kernelspec": {
   "display_name": "Python 3 (ipykernel)",
   "language": "python",
   "name": "python3"
  }
 },
 "nbformat": 4,
 "nbformat_minor": 5
}
