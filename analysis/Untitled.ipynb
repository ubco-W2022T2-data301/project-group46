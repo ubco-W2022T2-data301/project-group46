{
 "cells": [
  {
   "cell_type": "code",
   "execution_count": null,
   "id": "935dbe58-74e5-4fdb-affc-3217adcaf540",
   "metadata": {},
   "outputs": [],
   "source": [
    "\n",
    "year_plot=(sns.heatmap(year,fmt=\".3f\",cmap=\"rocket_r\"))\n",
    "year_plot.set(xlabel='Number of Features Release in that Year', ylabel='Year')"
   ]
  }
 ],
 "metadata": {
  "kernelspec": {
   "display_name": "Python 3 (ipykernel)",
   "language": "python",
   "name": "python3"
  }
 },
 "nbformat": 4,
 "nbformat_minor": 5
}
