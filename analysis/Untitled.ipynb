{
 "cells": [
  {
   "cell_type": "code",
   "execution_count": null,
   "id": "e6b889ea-7d02-4743-b9ce-55fa0f5bedc0",
   "metadata": {},
   "outputs": [],
   "source": [
    "sns.relplot(data=year, x=year['rating'], y=year['release_year'], hue=year['rating'])\n",
    ",figsize=(5,5), title='Heat Map of Feature Release Year')"
   ]
  }
 ],
 "metadata": {
  "kernelspec": {
   "display_name": "Python 3 (ipykernel)",
   "language": "python",
   "name": "python3"
  }
 },
 "nbformat": 4,
 "nbformat_minor": 5
}
