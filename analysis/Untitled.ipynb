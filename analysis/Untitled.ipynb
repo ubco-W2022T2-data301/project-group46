{
 "cells": [
  {
   "cell_type": "code",
   "execution_count": null,
   "id": "f5337186-2adb-4a65-9365-d7b8e55c1a83",
   "metadata": {},
   "outputs": [
    {
     "ename": "ModuleNotFoundError",
     "evalue": "No module named 'analysis_alex'",
     "output_type": "error",
     "traceback": [
      "\u001b[1;31m---------------------------------------------------------------------------\u001b[0m",
      "\u001b[1;31mModuleNotFoundError\u001b[0m                       Traceback (most recent call last)",
      "Cell \u001b[1;32mIn[13], line 4\u001b[0m\n\u001b[0;32m      2\u001b[0m \u001b[38;5;28;01mimport\u001b[39;00m \u001b[38;5;21;01mnumpy\u001b[39;00m \u001b[38;5;28;01mas\u001b[39;00m \u001b[38;5;21;01mnp\u001b[39;00m\n\u001b[0;32m      3\u001b[0m \u001b[38;5;28;01mimport\u001b[39;00m \u001b[38;5;21;01mwarnings\u001b[39;00m\n\u001b[1;32m----> 4\u001b[0m \u001b[38;5;28;01mfrom\u001b[39;00m \u001b[38;5;21;01manalysis_alex\u001b[39;00m \u001b[38;5;28;01mimport\u001b[39;00m load_NF\n\u001b[0;32m      6\u001b[0m warnings\u001b[38;5;241m.\u001b[39mfilterwarnings(\u001b[38;5;124m\"\u001b[39m\u001b[38;5;124mignore\u001b[39m\u001b[38;5;124m\"\u001b[39m)\n\u001b[0;32m      8\u001b[0m NF \u001b[38;5;241m=\u001b[39m load_NF()\n",
      "\u001b[1;31mModuleNotFoundError\u001b[0m: No module named 'analysis_alex'"
     ]
    }
   ],
   "source": [
    "import pandas as pd\n",
    "import numpy as np\n",
    "import warnings\n",
    "from analysis_alex import load_NF\n",
    "\n",
    "warnings.filterwarnings(\"ignore\")\n",
    "\n",
    "NF = load_NF()"
   ]
  },
  {
   "cell_type": "code",
   "execution_count": null,
   "id": "290094e5-e0bd-424c-8ff4-2a61d8b2423f",
   "metadata": {},
   "outputs": [],
   "source": []
  }
 ],
 "metadata": {
  "kernelspec": {
   "display_name": "Python 3 (ipykernel)",
   "language": "python",
   "name": "python3"
  }
 },
 "nbformat": 4,
 "nbformat_minor": 5
}
