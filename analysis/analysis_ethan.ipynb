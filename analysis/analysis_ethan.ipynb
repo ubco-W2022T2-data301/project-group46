{
 "cells": [
  {
   "cell_type": "markdown",
   "metadata": {},
   "source": [
    "# Your Name Here"
   ]
  },
  {
   "attachments": {},
   "cell_type": "markdown",
   "metadata": {},
   "source": [
    "## Research question/interests\n",
    "\n",
    "**I am interested in what the users of each platform prefers, namely the correlation between year, genre (listed_in) and ratings on different platforms.**\n",
    "\n",
    "I plan to clean the data by removing any duplicate and null entries and ensuring that all columns are in a consistent format, then followed by removing all the unnecessary data such as director, cast, country and only leaves the critical things such as listed_in, date_added. Then use some process to merge and combine the datasets then seperate them in terms of platforms. Then, using some weightings and other functions, calculating the correlation between genres and the ratings for different platforms. Finally after the analysis, using some plotting tools to make a visual representation of genre, platform, and user preferences."
   ]
  },
  {
   "cell_type": "code",
   "execution_count": null,
   "metadata": {},
   "outputs": [],
   "source": [
    "import pandas as pd\n",
    "import numpy as np\n",
    "url1 = \"https://www.kaggle.com/datasets/victorsoeiro/netflix-tv-shows-and-movies?select=titles.csv\"\n",
    "url2 = \"https://www.kaggle.com/datasets/ruchi798/tv-shows-on-netflix-prime-video-hulu-and-disney\""
   ]
  },
  {
   "cell_type": "code",
   "execution_count": null,
   "metadata": {},
   "outputs": [],
   "source": [
    "df1 = pd.read_csv('../data/raw/netflix_titles.csv')\n",
    "df2 = pd.read_csv('../data/raw/disney_plus_titles.csv')\n",
    "df3 = pd.read_csv('../data/raw/hulu_titles.csv')\n",
    "df4 = pd.read_csv('../data/raw/amazon_prime_titles.csv')\n",
    "df5 = pd.read_csv('../data/raw/Netflix_TV_Shows_and_Movies.csv')\n",
    "df6 = pd.read_csv('../data/raw/tv_shows.csv')\n"
   ]
  }
 ],
 "metadata": {
  "kernelspec": {
   "display_name": "Python 3",
   "language": "python",
   "name": "python3"
  }
 },
 "nbformat": 4,
 "nbformat_minor": 2
}
